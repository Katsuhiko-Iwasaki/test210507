{
 "metadata": {
  "language_info": {
   "codemirror_mode": {
    "name": "ipython",
    "version": 3
   },
   "file_extension": ".py",
   "mimetype": "text/x-python",
   "name": "python",
   "nbconvert_exporter": "python",
   "pygments_lexer": "ipython3",
   "version": "3.8.8"
  },
  "orig_nbformat": 2,
  "kernelspec": {
   "name": "python388jvsc74a57bd005fd1b225927ae76c23ac76676a655f5e6f0531cb65146fe15e06b2c86ca5f0a",
   "display_name": "Python 3.8.8 64-bit ('base': conda)"
  }
 },
 "nbformat": 4,
 "nbformat_minor": 2,
 "cells": [
  {
   "cell_type": "code",
   "execution_count": 1,
   "metadata": {},
   "outputs": [],
   "source": [
    "import streamlit as st\n",
    "import numpy as np\n",
    "import pandas as pd"
   ]
  },
  {
   "cell_type": "code",
   "execution_count": 8,
   "metadata": {},
   "outputs": [
    {
     "output_type": "execute_result",
     "data": {
      "text/plain": [
       "          lat         lon\n",
       "0   35.697628  139.710354\n",
       "1   35.691273  139.718558\n",
       "2   35.696094  139.706371\n",
       "3   35.694126  139.705891\n",
       "4   35.708693  139.701108\n",
       "..        ...         ...\n",
       "95  35.701453  139.708382\n",
       "96  35.703307  139.703528\n",
       "97  35.704293  139.717584\n",
       "98  35.705371  139.700647\n",
       "99  35.706307  139.712259\n",
       "\n",
       "[100 rows x 2 columns]"
      ],
      "text/html": "<div>\n<style scoped>\n    .dataframe tbody tr th:only-of-type {\n        vertical-align: middle;\n    }\n\n    .dataframe tbody tr th {\n        vertical-align: top;\n    }\n\n    .dataframe thead th {\n        text-align: right;\n    }\n</style>\n<table border=\"1\" class=\"dataframe\">\n  <thead>\n    <tr style=\"text-align: right;\">\n      <th></th>\n      <th>lat</th>\n      <th>lon</th>\n    </tr>\n  </thead>\n  <tbody>\n    <tr>\n      <th>0</th>\n      <td>35.697628</td>\n      <td>139.710354</td>\n    </tr>\n    <tr>\n      <th>1</th>\n      <td>35.691273</td>\n      <td>139.718558</td>\n    </tr>\n    <tr>\n      <th>2</th>\n      <td>35.696094</td>\n      <td>139.706371</td>\n    </tr>\n    <tr>\n      <th>3</th>\n      <td>35.694126</td>\n      <td>139.705891</td>\n    </tr>\n    <tr>\n      <th>4</th>\n      <td>35.708693</td>\n      <td>139.701108</td>\n    </tr>\n    <tr>\n      <th>...</th>\n      <td>...</td>\n      <td>...</td>\n    </tr>\n    <tr>\n      <th>95</th>\n      <td>35.701453</td>\n      <td>139.708382</td>\n    </tr>\n    <tr>\n      <th>96</th>\n      <td>35.703307</td>\n      <td>139.703528</td>\n    </tr>\n    <tr>\n      <th>97</th>\n      <td>35.704293</td>\n      <td>139.717584</td>\n    </tr>\n    <tr>\n      <th>98</th>\n      <td>35.705371</td>\n      <td>139.700647</td>\n    </tr>\n    <tr>\n      <th>99</th>\n      <td>35.706307</td>\n      <td>139.712259</td>\n    </tr>\n  </tbody>\n</table>\n<p>100 rows × 2 columns</p>\n</div>"
     },
     "metadata": {},
     "execution_count": 8
    }
   ],
   "source": [
    "df = pd.DataFrame(\n",
    "    np.random.rand(100, 2)/[50, 50] + [35.69, 139.70],\n",
    "    columns=['lat','lon']\n",
    ")\n",
    "df"
   ]
  },
  {
   "cell_type": "code",
   "execution_count": null,
   "metadata": {},
   "outputs": [],
   "source": []
  }
 ]
}